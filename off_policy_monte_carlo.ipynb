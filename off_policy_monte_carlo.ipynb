{
 "cells": [
  {
   "cell_type": "code",
   "execution_count": 2,
   "metadata": {},
   "outputs": [],
   "source": [
    "import numpy as np\n",
    "from typing import Tuple\n",
    "from tqdm.auto import tqdm\n",
    "from joblib import Parallel, delayed"
   ]
  },
  {
   "cell_type": "code",
   "execution_count": 47,
   "metadata": {},
   "outputs": [],
   "source": [
    "from maze import Maze\n",
    "\n",
    "# Constants\n",
    "GAME_HEIGHT = 600\n",
    "GAME_WIDTH = 600\n",
    "NUMBER_OF_TILES = 25\n",
    "SCREEN_HEIGHT = 700\n",
    "SCREEN_WIDTH = 700\n",
    "TILE_SIZE = GAME_HEIGHT // NUMBER_OF_TILES\n",
    "\n",
    "# Maze layout\n",
    "level = [\n",
    "    \"XXXXXXXXXXXXXXXXXXXXXXXXX\",\n",
    "    \"X XXXXXXXX          XXXXX\",\n",
    "    \"X XXXXXXXX  XXXXXX  XXXXX\",\n",
    "    \"XP     XXX  XXXXXX  XXXXX\",\n",
    "    \"X      XXX  XXX         X\",\n",
    "    \"XXXXXX  XX  XXX        XX\",\n",
    "    \"XXXXXX  XX  XXXXXX  XXXXX\",\n",
    "    \"XXXXXX  XX  XXXXXX  XXXXX\",\n",
    "    \"X  XXX      XXXXXXXXXXXXX\",\n",
    "    \"X  XXX  XXXXXXXXXXXXXXXXX\",\n",
    "    \"X         XXXXXXXXXXXXXXX\",\n",
    "    \"X             XXXXXXXXXXX\",\n",
    "    \"XXXXXXXXXXX      XXXXX  X\",\n",
    "    \"XXXXXXXXXXXXXXX  XXXXX  X\",\n",
    "    \"XXX  XXXXXXXXXX         X\",\n",
    "    \"XXX                     X\",\n",
    "    \"XXX         XXXXXXXXXXXXX\",\n",
    "    \"XXXXXXXXXX  XXXXXXXXXXXXX\",\n",
    "    \"XXXXXXXXXX              X\",\n",
    "    \"XX   XXXXX              X\",\n",
    "    \"XX   XXXXXXXXXXXXX  XXXXX\",\n",
    "    \"XX    XXXXXXXXXXXX  XXXXX\",\n",
    "    \"XX        XXXX          X\",\n",
    "    \"XXXX                    X\",\n",
    "    \"XXXXXXXXXXXXXXXXXXXXXXXXX\",\n",
    "]\n",
    "\n",
    "env = Maze(\n",
    "    level,\n",
    "    goal_pos=(23, 20),\n",
    "    MAZE_HEIGHT=GAME_HEIGHT,\n",
    "    MAZE_WIDTH=GAME_WIDTH,\n",
    "    SIZE=NUMBER_OF_TILES,\n",
    ")"
   ]
  },
  {
   "cell_type": "code",
   "execution_count": 48,
   "metadata": {},
   "outputs": [],
   "source": [
    "NO_OF_ACTIONS = 4"
   ]
  },
  {
   "cell_type": "code",
   "execution_count": 5,
   "metadata": {},
   "outputs": [],
   "source": [
    "import seaborn as sns\n",
    "import matplotlib.pyplot as plt\n",
    "def plot_policy(probs_or_qvals, action_meanings=None):\n",
    "    if action_meanings is None:\n",
    "        action_meanings = {0: 'L', 1: 'U', 2: 'R', 3: 'D'}\n",
    "    fig = plt.figure(figsize=(7,7))\n",
    "    max_prob_actions = probs_or_qvals.argmax(axis=-1)\n",
    "    probs_copy = max_prob_actions.copy().astype(np.object)\n",
    "    for key in action_meanings:\n",
    "        probs_copy[probs_copy == key] = action_meanings[key]\n",
    "    sns.heatmap(max_prob_actions, annot=probs_copy, fmt='', cbar=False, cmap='coolwarm',\n",
    "                annot_kws={'weight': 'bold', 'size': 12}, linewidths=2)\n",
    "    plt.axis(\"off\")\n",
    "    plt.suptitle(\"Policy\", size=24)\n",
    "    plt.tight_layout()"
   ]
  },
  {
   "cell_type": "markdown",
   "metadata": {},
   "source": [
    "### Define Action Values "
   ]
  },
  {
   "cell_type": "code",
   "execution_count": 50,
   "metadata": {},
   "outputs": [],
   "source": [
    "# action_values = np.zeros((env.number_of_tiles, env.number_of_tiles, NO_OF_ACTIONS))\n",
    "action_values = np.full((env.number_of_tiles, env.number_of_tiles, NO_OF_ACTIONS), -100)\n",
    "# set action value for goal state to 0\n",
    "action_values[env.goal_pos]=0\n"
   ]
  },
  {
   "cell_type": "markdown",
   "metadata": {},
   "source": [
    "### Define Target Policy $\\pi(a|s)$   "
   ]
  },
  {
   "cell_type": "code",
   "execution_count": 51,
   "metadata": {},
   "outputs": [],
   "source": [
    "def target_policy(state):\n",
    "    av = action_values[state]\n",
    "    return np.random.choice(np.flatnonzero(av == av.max()))"
   ]
  },
  {
   "cell_type": "code",
   "execution_count": 52,
   "metadata": {},
   "outputs": [
    {
     "data": {
      "text/plain": [
       "3"
      ]
     },
     "execution_count": 52,
     "metadata": {},
     "output_type": "execute_result"
    }
   ],
   "source": [
    "target_policy((0,0))"
   ]
  },
  {
   "cell_type": "markdown",
   "metadata": {},
   "source": [
    "### Define Exploratory Policy $b(a|s)$"
   ]
  },
  {
   "cell_type": "code",
   "execution_count": 53,
   "metadata": {},
   "outputs": [],
   "source": [
    "import numpy as np\n",
    "def exploratory_policy(state, epsilon):\n",
    "\n",
    "    if np.random.rand() < epsilon:\n",
    "        return np.random.choice(NO_OF_ACTIONS)\n",
    "    \n",
    "    else:\n",
    "        av = action_values[state]\n",
    "        return np.random.choice(np.flatnonzero(av == av.max()))"
   ]
  },
  {
   "cell_type": "code",
   "execution_count": 54,
   "metadata": {},
   "outputs": [
    {
     "data": {
      "text/plain": [
       "3"
      ]
     },
     "execution_count": 54,
     "metadata": {},
     "output_type": "execute_result"
    }
   ],
   "source": [
    "exploratory_policy((0,0), epsilon = 0.5)"
   ]
  },
  {
   "cell_type": "markdown",
   "metadata": {},
   "source": [
    "## Off Policy Monte Carlo Algorithm"
   ]
  },
  {
   "cell_type": "code",
   "execution_count": 55,
   "metadata": {},
   "outputs": [],
   "source": [
    "def run_episode(action_values, target_policy, exploratory_policy, epsilon, gamma = 0.99):\n",
    "   \n",
    "        G = 0\n",
    "        W = 1\n",
    "        done = False\n",
    "        transitions = []\n",
    "        env.state = env.reset_state()\n",
    "\n",
    "        while not done:\n",
    "            prev_state = env.state\n",
    "            action = exploratory_policy(env.state, epsilon)\n",
    "            next_state, reward, done = env.step(action)\n",
    "            env.state = next_state\n",
    "            transitions.append((prev_state, action, reward))\n",
    "\n",
    "        for state_t, action_t, reward_t in reversed(transitions):\n",
    "            G = reward_t + gamma * G\n",
    "            csa[state_t][action_t] += W\n",
    "            qsa = action_values[state_t][action_t]\n",
    "            action_values[state_t][action_t] = qsa + (G - qsa) * (W/ csa[state_t][action_t])\n",
    "\n",
    "            if action_t != target_policy(state_t):\n",
    "                break\n",
    "\n",
    "            else:\n",
    "                W = W / ((1-epsilon) + (epsilon/NO_OF_ACTIONS))\n",
    "\n",
    "        return action_values\n",
    "\n"
   ]
  },
  {
   "cell_type": "code",
   "execution_count": 56,
   "metadata": {},
   "outputs": [],
   "source": [
    "csa = np.zeros((env.number_of_tiles, env.number_of_tiles, NO_OF_ACTIONS))\n",
    "\n",
    "def mc_off_policy_control(action_values,target_policy, exploratory_policy, epsilon, episodes = 1000, gamma = 0.99):\n",
    "\n",
    "    for i in tqdm(range(1, episodes+1)):\n",
    "        \n",
    "        run_episode(action_values, target_policy, exploratory_policy, epsilon, gamma)\n"
   ]
  },
  {
   "cell_type": "code",
   "execution_count": 57,
   "metadata": {},
   "outputs": [],
   "source": [
    "def mc_on_policy_control(action_values, exploratory_policy, epsilon, episodes = 1000, gamma = 0.99, alpha = 0.2):\n",
    "    \n",
    "    fail = 0\n",
    "\n",
    "    for i in tqdm(range(1, episodes+1)):\n",
    "        \n",
    "        G = 0\n",
    "        done = False\n",
    "        transitions = []\n",
    "        env.state = env.reset_state()\n",
    "\n",
    "        while not done:\n",
    "            prev_state = env.state\n",
    "            action = exploratory_policy(env.state, epsilon)\n",
    "            next_state, reward, done = env.step(action)\n",
    "            env.state = next_state\n",
    "            transitions.append((prev_state, action, reward))\n",
    "            if len(transitions) > 100000:\n",
    "                fail += 1\n",
    "                print(fail)\n",
    "                break\n",
    "                \n",
    "        if len(transitions) < 100000:\n",
    "            for state_t, action_t, reward_t in reversed(transitions):\n",
    "                G = reward_t + gamma * G\n",
    "                qsa = action_values[state_t][action_t]\n",
    "                action_values[state_t][action_t] = qsa + (G - qsa) * alpha"
   ]
  },
  {
   "cell_type": "code",
   "execution_count": 58,
   "metadata": {},
   "outputs": [],
   "source": [
    "# mc_on_policy_control(action_values, exploratory_policy, episodes = 3000, epsilon = 0.3)"
   ]
  },
  {
   "cell_type": "code",
   "execution_count": 59,
   "metadata": {},
   "outputs": [
    {
     "data": {
      "application/vnd.jupyter.widget-view+json": {
       "model_id": "4234c2c366424376b2731642697d02ca",
       "version_major": 2,
       "version_minor": 0
      },
      "text/plain": [
       "  0%|          | 0/3000 [00:00<?, ?it/s]"
      ]
     },
     "metadata": {},
     "output_type": "display_data"
    }
   ],
   "source": [
    "result = Parallel(n_jobs=-1)(delayed(run_episode)(action_values, target_policy, exploratory_policy, epsilon = 0.3) for _ in tqdm(range(3000)))"
   ]
  },
  {
   "cell_type": "code",
   "execution_count": 60,
   "metadata": {},
   "outputs": [],
   "source": [
    "# mc_off_policy_control(action_values, target_policy, exploratory_policy, epsilon = 0.3, episodes = 10000, gamma = 0.99)"
   ]
  },
  {
   "cell_type": "code",
   "execution_count": 3,
   "metadata": {},
   "outputs": [],
   "source": [
    "action = np.load(\"off_policy_10000_episodes.npy\")"
   ]
  },
  {
   "cell_type": "code",
   "execution_count": 6,
   "metadata": {},
   "outputs": [
    {
     "data": {
      "image/png": "[encoded data removed]",
      "text/plain": [
       "<Figure size 700x700 with 1 Axes>"
      ]
     },
     "metadata": {},
     "output_type": "display_data"
    }
   ],
   "source": [
    "plot_policy(action)"
   ]
  },
  {
   "cell_type": "code",
   "execution_count": null,
   "metadata": {},
   "outputs": [],
   "source": []
  }
 ],
 "metadata": {
  "kernelspec": {
   "display_name": "bmrl",
   "language": "python",
   "name": "python3"
  },
  "language_info": {
   "codemirror_mode": {
    "name": "ipython",
    "version": 3
   },
   "file_extension": ".py",
   "mimetype": "text/x-python",
   "name": "python",
   "nbconvert_exporter": "python",
   "pygments_lexer": "ipython3",
   "version": "3.8.0"
  },
  "orig_nbformat": 4
 },
 "nbformat": 4,
 "nbformat_minor": 2
}
